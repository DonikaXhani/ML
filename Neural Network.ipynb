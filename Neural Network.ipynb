{
 "cells": [
  {
   "cell_type": "code",
   "execution_count": 11,
   "id": "5d050b8b",
   "metadata": {},
   "outputs": [],
   "source": [
    "import numpy as np\n"
   ]
  },
  {
   "cell_type": "code",
   "execution_count": 12,
   "id": "485f42b4",
   "metadata": {},
   "outputs": [],
   "source": [
    "#sigmoid function\n",
    "def nonlin(x, deriv=False):\n",
    "    if(deriv==True):\n",
    "        return x*(1-x)\n",
    "    return 1/(1+np.exp(-x))"
   ]
  },
  {
   "cell_type": "code",
   "execution_count": 13,
   "id": "2031c061",
   "metadata": {},
   "outputs": [],
   "source": [
    "#initialize input\n",
    "x=np.array([[0,0,1], [0,1,1], [1,0,1],[1,1,1]])\n"
   ]
  },
  {
   "cell_type": "code",
   "execution_count": 14,
   "id": "d9cc238f",
   "metadata": {},
   "outputs": [],
   "source": [
    "#initialize output \n",
    "y=np.array([0,0,1,1]).T  #.T transpozes it so it becomes a single column\n",
    "#initialize the seed\n",
    "np.random.seed(1)"
   ]
  },
  {
   "cell_type": "code",
   "execution_count": 15,
   "id": "8f0068b8",
   "metadata": {},
   "outputs": [
    {
     "data": {
      "text/plain": [
       "array([[-0.16595599],\n",
       "       [ 0.44064899],\n",
       "       [-0.99977125]])"
      ]
     },
     "execution_count": 15,
     "metadata": {},
     "output_type": "execute_result"
    }
   ],
   "source": [
    "#initializee the weights\n",
    "w0=2*np.random.random((3,1))-1\n",
    "#check the values\n",
    "w0 "
   ]
  },
  {
   "cell_type": "code",
   "execution_count": 16,
   "id": "315e147b",
   "metadata": {},
   "outputs": [
    {
     "name": "stdout",
     "output_type": "stream",
     "text": [
      "end of training.view the output\n",
      "[[0.05194868 0.05194868 0.93041804 0.93041804]\n",
      " [0.03375157 0.03375157 0.98024587 0.98024587]\n",
      " [0.02516258 0.02516258 0.97319054 0.97319054]\n",
      " [0.01618816 0.01618816 0.99263144 0.99263144]]\n"
     ]
    }
   ],
   "source": [
    "for iter in range (100):\n",
    "    l0=x\n",
    "    l1=np.dot(l0,w0)  #l1 is the predicted y which  has error\n",
    "    l1=nonlin(l1)\n",
    "    l1_error=y-l1   #to find the error\n",
    "    #to backpropagate the error\n",
    "    delta_l1=l1_error*nonlin(l1,True)\n",
    "    #update the weights\n",
    "    w0=w0+np.dot(l0.T,delta_l1)\n",
    "print(\"end of training.view the output\")\n",
    "print(l1)"
   ]
  },
  {
   "cell_type": "code",
   "execution_count": null,
   "id": "6f3a052d",
   "metadata": {},
   "outputs": [],
   "source": []
  },
  {
   "cell_type": "code",
   "execution_count": null,
   "id": "bea5f4f6",
   "metadata": {},
   "outputs": [],
   "source": []
  }
 ],
 "metadata": {
  "kernelspec": {
   "display_name": "Python 3 (ipykernel)",
   "language": "python",
   "name": "python3"
  },
  "language_info": {
   "codemirror_mode": {
    "name": "ipython",
    "version": 3
   },
   "file_extension": ".py",
   "mimetype": "text/x-python",
   "name": "python",
   "nbconvert_exporter": "python",
   "pygments_lexer": "ipython3",
   "version": "3.9.7"
  }
 },
 "nbformat": 4,
 "nbformat_minor": 5
}
